{
 "cells": [
  {
   "cell_type": "code",
   "execution_count": 4,
   "metadata": {},
   "outputs": [],
   "source": [
    "import os\n",
    "import SimpleITK as sitk\n",
    "import tqdm as tqdm"
   ]
  },
  {
   "cell_type": "code",
   "execution_count": 8,
   "metadata": {},
   "outputs": [
    {
     "name": "stderr",
     "output_type": "stream",
     "text": [
      "77it [04:20,  3.38s/it]\n"
     ]
    }
   ],
   "source": [
    "def data_struct_converter(path_in, path_out):\n",
    "    '''\n",
    "    Converts data from file fromat WORC XNAT to one compatible with nnUNet\n",
    "    ''' \n",
    "\n",
    "    for i,name in tqdm.tqdm(enumerate(os.listdir(path_in))):\n",
    "        i += 1\n",
    "        scan_folder = path_in + '/' + name + '/1/NIFTI' \n",
    "        \n",
    "        # img = sitk.ReadImage(scan_folder+ '/image.nii.gz')\n",
    "        STUD1_seg = sitk.ReadImage(scan_folder + '/segmentation_lesion0_STUD1.nii.gz')\n",
    "        STUD2_seg = sitk.ReadImage(scan_folder + '/segmentation_lesion0_STUD2.nii.gz')\n",
    "        CNN_seg =   sitk.ReadImage(scan_folder + '/segmentation_lesion0_CNN.nii.gz')\n",
    "        PhD_seg =   sitk.ReadImage(scan_folder + '/segmentation_lesion0_phD.nii.gz')\n",
    "\n",
    "        if i > 9:\n",
    "            out_name = 'CRLM_0' + str(i)\n",
    "        else: \n",
    "            out_name = 'CRLM_00' + str(i)\n",
    "\n",
    "        # sitk.WriteImage(img, path_out + '/imagesTr/' + out_name + '_0000.nii.gz')\n",
    "        sitk.WriteImage(STUD1_seg, path_out + '/labelsTr_STUD1/' + out_name + '_0000.nii.gz')\n",
    "        sitk.WriteImage(STUD2_seg, path_out + '/labelsTr_STUD2/' + out_name + '_0000.nii.gz')\n",
    "        sitk.WriteImage(CNN_seg, path_out + '/labelsTr_CNN/' + out_name + '_0000.nii.gz')\n",
    "        sitk.WriteImage(PhD_seg, path_out + '/labelsTr_PhD/' + out_name + '_0000.nii.gz')\n",
    "\n",
    "        \n",
    "path_in = 'C:/Users/korat/Desktop/MEP/Data/WORC_CRLM/Pure_CRLM_data/Pure_CRLM'\n",
    "path_out = 'C:/Users/korat/Desktop/MEP/Data/nnUnet/pure_CRLM/task502_CRLM'\n",
    "data_struct_converter(path_in, path_out)"
   ]
  },
  {
   "attachments": {},
   "cell_type": "markdown",
   "metadata": {},
   "source": [
    "make json file list"
   ]
  },
  {
   "cell_type": "code",
   "execution_count": 40,
   "metadata": {},
   "outputs": [
    {
     "name": "stdout",
     "output_type": "stream",
     "text": [
      "{\"image\":\"./imagesTr/CRLM_001_0000.nii.gz\",\"label\":\"./labelsTr/CRLM_001_0000.nii.gz\"},\n",
      "{\"image\":\"./imagesTr/CRLM_002_0000.nii.gz\",\"label\":\"./labelsTr/CRLM_002_0000.nii.gz\"},\n",
      "{\"image\":\"./imagesTr/CRLM_003_0000.nii.gz\",\"label\":\"./labelsTr/CRLM_003_0000.nii.gz\"},\n",
      "{\"image\":\"./imagesTr/CRLM_004_0000.nii.gz\",\"label\":\"./labelsTr/CRLM_004_0000.nii.gz\"},\n",
      "{\"image\":\"./imagesTr/CRLM_005_0000.nii.gz\",\"label\":\"./labelsTr/CRLM_005_0000.nii.gz\"},\n",
      "{\"image\":\"./imagesTr/CRLM_006_0000.nii.gz\",\"label\":\"./labelsTr/CRLM_006_0000.nii.gz\"},\n",
      "{\"image\":\"./imagesTr/CRLM_007_0000.nii.gz\",\"label\":\"./labelsTr/CRLM_007_0000.nii.gz\"},\n",
      "{\"image\":\"./imagesTr/CRLM_008_0000.nii.gz\",\"label\":\"./labelsTr/CRLM_008_0000.nii.gz\"},\n",
      "{\"image\":\"./imagesTr/CRLM_009_0000.nii.gz\",\"label\":\"./labelsTr/CRLM_009_0000.nii.gz\"},\n",
      "{\"image\":\"./imagesTr/CRLM_010_0000.nii.gz\",\"label\":\"./labelsTr/CRLM_010_0000.nii.gz\"},\n",
      "{\"image\":\"./imagesTr/CRLM_011_0000.nii.gz\",\"label\":\"./labelsTr/CRLM_011_0000.nii.gz\"},\n",
      "{\"image\":\"./imagesTr/CRLM_012_0000.nii.gz\",\"label\":\"./labelsTr/CRLM_012_0000.nii.gz\"},\n",
      "{\"image\":\"./imagesTr/CRLM_013_0000.nii.gz\",\"label\":\"./labelsTr/CRLM_013_0000.nii.gz\"},\n",
      "{\"image\":\"./imagesTr/CRLM_014_0000.nii.gz\",\"label\":\"./labelsTr/CRLM_014_0000.nii.gz\"},\n",
      "{\"image\":\"./imagesTr/CRLM_015_0000.nii.gz\",\"label\":\"./labelsTr/CRLM_015_0000.nii.gz\"},\n",
      "{\"image\":\"./imagesTr/CRLM_016_0000.nii.gz\",\"label\":\"./labelsTr/CRLM_016_0000.nii.gz\"},\n",
      "{\"image\":\"./imagesTr/CRLM_017_0000.nii.gz\",\"label\":\"./labelsTr/CRLM_017_0000.nii.gz\"},\n",
      "{\"image\":\"./imagesTr/CRLM_018_0000.nii.gz\",\"label\":\"./labelsTr/CRLM_018_0000.nii.gz\"},\n",
      "{\"image\":\"./imagesTr/CRLM_019_0000.nii.gz\",\"label\":\"./labelsTr/CRLM_019_0000.nii.gz\"},\n",
      "{\"image\":\"./imagesTr/CRLM_020_0000.nii.gz\",\"label\":\"./labelsTr/CRLM_020_0000.nii.gz\"},\n",
      "{\"image\":\"./imagesTr/CRLM_021_0000.nii.gz\",\"label\":\"./labelsTr/CRLM_021_0000.nii.gz\"},\n",
      "{\"image\":\"./imagesTr/CRLM_022_0000.nii.gz\",\"label\":\"./labelsTr/CRLM_022_0000.nii.gz\"},\n",
      "{\"image\":\"./imagesTr/CRLM_023_0000.nii.gz\",\"label\":\"./labelsTr/CRLM_023_0000.nii.gz\"},\n",
      "{\"image\":\"./imagesTr/CRLM_024_0000.nii.gz\",\"label\":\"./labelsTr/CRLM_024_0000.nii.gz\"},\n",
      "{\"image\":\"./imagesTr/CRLM_025_0000.nii.gz\",\"label\":\"./labelsTr/CRLM_025_0000.nii.gz\"},\n",
      "{\"image\":\"./imagesTr/CRLM_026_0000.nii.gz\",\"label\":\"./labelsTr/CRLM_026_0000.nii.gz\"},\n",
      "{\"image\":\"./imagesTr/CRLM_027_0000.nii.gz\",\"label\":\"./labelsTr/CRLM_027_0000.nii.gz\"},\n",
      "{\"image\":\"./imagesTr/CRLM_028_0000.nii.gz\",\"label\":\"./labelsTr/CRLM_028_0000.nii.gz\"},\n",
      "{\"image\":\"./imagesTr/CRLM_029_0000.nii.gz\",\"label\":\"./labelsTr/CRLM_029_0000.nii.gz\"},\n",
      "{\"image\":\"./imagesTr/CRLM_030_0000.nii.gz\",\"label\":\"./labelsTr/CRLM_030_0000.nii.gz\"},\n",
      "{\"image\":\"./imagesTr/CRLM_031_0000.nii.gz\",\"label\":\"./labelsTr/CRLM_031_0000.nii.gz\"},\n",
      "{\"image\":\"./imagesTr/CRLM_032_0000.nii.gz\",\"label\":\"./labelsTr/CRLM_032_0000.nii.gz\"},\n",
      "{\"image\":\"./imagesTr/CRLM_033_0000.nii.gz\",\"label\":\"./labelsTr/CRLM_033_0000.nii.gz\"},\n",
      "{\"image\":\"./imagesTr/CRLM_034_0000.nii.gz\",\"label\":\"./labelsTr/CRLM_034_0000.nii.gz\"},\n",
      "{\"image\":\"./imagesTr/CRLM_035_0000.nii.gz\",\"label\":\"./labelsTr/CRLM_035_0000.nii.gz\"},\n",
      "{\"image\":\"./imagesTr/CRLM_036_0000.nii.gz\",\"label\":\"./labelsTr/CRLM_036_0000.nii.gz\"},\n",
      "{\"image\":\"./imagesTr/CRLM_037_0000.nii.gz\",\"label\":\"./labelsTr/CRLM_037_0000.nii.gz\"},\n",
      "{\"image\":\"./imagesTr/CRLM_038_0000.nii.gz\",\"label\":\"./labelsTr/CRLM_038_0000.nii.gz\"},\n",
      "{\"image\":\"./imagesTr/CRLM_039_0000.nii.gz\",\"label\":\"./labelsTr/CRLM_039_0000.nii.gz\"},\n",
      "{\"image\":\"./imagesTr/CRLM_040_0000.nii.gz\",\"label\":\"./labelsTr/CRLM_040_0000.nii.gz\"},\n",
      "{\"image\":\"./imagesTr/CRLM_041_0000.nii.gz\",\"label\":\"./labelsTr/CRLM_041_0000.nii.gz\"},\n",
      "{\"image\":\"./imagesTr/CRLM_042_0000.nii.gz\",\"label\":\"./labelsTr/CRLM_042_0000.nii.gz\"},\n",
      "{\"image\":\"./imagesTr/CRLM_043_0000.nii.gz\",\"label\":\"./labelsTr/CRLM_043_0000.nii.gz\"},\n",
      "{\"image\":\"./imagesTr/CRLM_044_0000.nii.gz\",\"label\":\"./labelsTr/CRLM_044_0000.nii.gz\"},\n",
      "{\"image\":\"./imagesTr/CRLM_045_0000.nii.gz\",\"label\":\"./labelsTr/CRLM_045_0000.nii.gz\"},\n",
      "{\"image\":\"./imagesTr/CRLM_046_0000.nii.gz\",\"label\":\"./labelsTr/CRLM_046_0000.nii.gz\"},\n",
      "{\"image\":\"./imagesTr/CRLM_047_0000.nii.gz\",\"label\":\"./labelsTr/CRLM_047_0000.nii.gz\"},\n",
      "{\"image\":\"./imagesTr/CRLM_048_0000.nii.gz\",\"label\":\"./labelsTr/CRLM_048_0000.nii.gz\"},\n",
      "{\"image\":\"./imagesTr/CRLM_049_0000.nii.gz\",\"label\":\"./labelsTr/CRLM_049_0000.nii.gz\"},\n",
      "{\"image\":\"./imagesTr/CRLM_050_0000.nii.gz\",\"label\":\"./labelsTr/CRLM_050_0000.nii.gz\"},\n",
      "{\"image\":\"./imagesTr/CRLM_051_0000.nii.gz\",\"label\":\"./labelsTr/CRLM_051_0000.nii.gz\"},\n",
      "{\"image\":\"./imagesTr/CRLM_052_0000.nii.gz\",\"label\":\"./labelsTr/CRLM_052_0000.nii.gz\"},\n",
      "{\"image\":\"./imagesTr/CRLM_053_0000.nii.gz\",\"label\":\"./labelsTr/CRLM_053_0000.nii.gz\"},\n",
      "{\"image\":\"./imagesTr/CRLM_054_0000.nii.gz\",\"label\":\"./labelsTr/CRLM_054_0000.nii.gz\"},\n",
      "{\"image\":\"./imagesTr/CRLM_055_0000.nii.gz\",\"label\":\"./labelsTr/CRLM_055_0000.nii.gz\"},\n",
      "{\"image\":\"./imagesTr/CRLM_056_0000.nii.gz\",\"label\":\"./labelsTr/CRLM_056_0000.nii.gz\"},\n",
      "{\"image\":\"./imagesTr/CRLM_057_0000.nii.gz\",\"label\":\"./labelsTr/CRLM_057_0000.nii.gz\"},\n",
      "{\"image\":\"./imagesTr/CRLM_058_0000.nii.gz\",\"label\":\"./labelsTr/CRLM_058_0000.nii.gz\"},\n",
      "{\"image\":\"./imagesTr/CRLM_059_0000.nii.gz\",\"label\":\"./labelsTr/CRLM_059_0000.nii.gz\"},\n",
      "{\"image\":\"./imagesTr/CRLM_060_0000.nii.gz\",\"label\":\"./labelsTr/CRLM_060_0000.nii.gz\"},\n",
      "{\"image\":\"./imagesTr/CRLM_061_0000.nii.gz\",\"label\":\"./labelsTr/CRLM_061_0000.nii.gz\"},\n",
      "{\"image\":\"./imagesTr/CRLM_062_0000.nii.gz\",\"label\":\"./labelsTr/CRLM_062_0000.nii.gz\"},\n",
      "{\"image\":\"./imagesTr/CRLM_063_0000.nii.gz\",\"label\":\"./labelsTr/CRLM_063_0000.nii.gz\"},\n",
      "{\"image\":\"./imagesTr/CRLM_064_0000.nii.gz\",\"label\":\"./labelsTr/CRLM_064_0000.nii.gz\"},\n",
      "{\"image\":\"./imagesTr/CRLM_065_0000.nii.gz\",\"label\":\"./labelsTr/CRLM_065_0000.nii.gz\"},\n",
      "{\"image\":\"./imagesTr/CRLM_066_0000.nii.gz\",\"label\":\"./labelsTr/CRLM_066_0000.nii.gz\"},\n",
      "{\"image\":\"./imagesTr/CRLM_067_0000.nii.gz\",\"label\":\"./labelsTr/CRLM_067_0000.nii.gz\"},\n",
      "{\"image\":\"./imagesTr/CRLM_068_0000.nii.gz\",\"label\":\"./labelsTr/CRLM_068_0000.nii.gz\"},\n",
      "{\"image\":\"./imagesTr/CRLM_069_0000.nii.gz\",\"label\":\"./labelsTr/CRLM_069_0000.nii.gz\"},\n",
      "{\"image\":\"./imagesTr/CRLM_070_0000.nii.gz\",\"label\":\"./labelsTr/CRLM_070_0000.nii.gz\"},\n",
      "{\"image\":\"./imagesTr/CRLM_071_0000.nii.gz\",\"label\":\"./labelsTr/CRLM_071_0000.nii.gz\"},\n",
      "{\"image\":\"./imagesTr/CRLM_072_0000.nii.gz\",\"label\":\"./labelsTr/CRLM_072_0000.nii.gz\"},\n",
      "{\"image\":\"./imagesTr/CRLM_073_0000.nii.gz\",\"label\":\"./labelsTr/CRLM_073_0000.nii.gz\"},\n",
      "{\"image\":\"./imagesTr/CRLM_074_0000.nii.gz\",\"label\":\"./labelsTr/CRLM_074_0000.nii.gz\"},\n",
      "{\"image\":\"./imagesTr/CRLM_075_0000.nii.gz\",\"label\":\"./labelsTr/CRLM_075_0000.nii.gz\"},\n",
      "{\"image\":\"./imagesTr/CRLM_076_0000.nii.gz\",\"label\":\"./labelsTr/CRLM_076_0000.nii.gz\"},\n",
      "{\"image\":\"./imagesTr/CRLM_077_0000.nii.gz\",\"label\":\"./labelsTr/CRLM_077_0000.nii.gz\"},\n"
     ]
    }
   ],
   "source": [
    "list = []\n",
    "for name in os.listdir(path_out + '/imagesTr'):\n",
    "    \n",
    "\n",
    "    a = '{\\\"image\\\":\\\"./imagesTr/' + name +  '\\\",\\\"label\\\":\\\"./labelsTr/' + name + '\\\"},'\n",
    "    print(a)"
   ]
  },
  {
   "cell_type": "code",
   "execution_count": null,
   "metadata": {},
   "outputs": [],
   "source": []
  }
 ],
 "metadata": {
  "kernelspec": {
   "display_name": "base",
   "language": "python",
   "name": "python3"
  },
  "language_info": {
   "codemirror_mode": {
    "name": "ipython",
    "version": 3
   },
   "file_extension": ".py",
   "mimetype": "text/x-python",
   "name": "python",
   "nbconvert_exporter": "python",
   "pygments_lexer": "ipython3",
   "version": "3.7.6"
  },
  "orig_nbformat": 4,
  "vscode": {
   "interpreter": {
    "hash": "7432466e805b9561eb33ab421f71c5fc5b7fe03de332dde5452a181beacb9a57"
   }
  }
 },
 "nbformat": 4,
 "nbformat_minor": 2
}
