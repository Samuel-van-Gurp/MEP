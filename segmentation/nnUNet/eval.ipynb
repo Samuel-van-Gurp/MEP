{
 "cells": [
  {
   "cell_type": "code",
   "execution_count": 4,
   "metadata": {
    "pycharm": {
     "is_executing": true
    }
   },
   "outputs": [],
   "source": [
    "import numpy as np\n",
    "import os\n",
    "import matplotlib.pyplot as plt\n",
    "import pandas as pd\n",
    "from matplotlib.ticker import NullLocator\n",
    "import matplotlib.colors as colors\n",
    "from scipy import spatial\n",
    "import SimpleITK as sitk\n",
    "from sklearn import metrics \n",
    "from skimage import morphology, measure\n",
    "from tqdm import tqdm"
   ]
  },
  {
   "cell_type": "code",
   "execution_count": 5,
   "metadata": {},
   "outputs": [],
   "source": [
    "def tumor_splitser(segmentation, remove_fist_component = True):\n",
    "    '''\n",
    "    takes in segmentation of multiple conected components and splits them over images with only one component \n",
    "    takes np.array as input\n",
    "    returns np.array dims=(z,y,x,components)\n",
    "    '''\n",
    "    if isinstance(segmentation, sitk.Image):\n",
    "        segmentation = sitk.GetArrayFromImage(segmentation)\n",
    "    \n",
    "    segmentation = measure.label(segmentation)\n",
    "    # print('max',np.max(segmentation))\n",
    "    out = np.empty((segmentation.shape[0], segmentation.shape[1], segmentation.shape[2], np.max(segmentation)))\n",
    "\n",
    "    \n",
    "    for i in range(1, np.max(segmentation)+1):\n",
    "        # print('i',i)\n",
    "        split = np.zeros_like(segmentation, dtype = np.bool_)\n",
    "        split[np.where(segmentation == i)] = True\n",
    "        out[:,:,:,i-1] = split\n",
    "        \n",
    "    return out\n",
    "\n",
    "def run_dice(segmentation_folder, gt_folder):\n",
    "    '''\n",
    "    Runs dice score over all components in segmentation and gt\n",
    "    returns list of non-zero dice scores\n",
    "    '''\n",
    "    teller = 0\n",
    "    dice_scores = []\n",
    "    # loop over all files in segmentation folder\n",
    "    for i in tqdm(os.listdir(segmentation_folder)):\n",
    "        \n",
    "        if i.endswith('.nii'):\n",
    "            # load images\n",
    "            segmentation = sitk.ReadImage(os.path.join(segmentation_folder, i))\n",
    "            gt = sitk.ReadImage(gt_folder+i[0:8]+'_0000.nii.gz')\n",
    "            \n",
    "            # split connected components\n",
    "            segmentation = tumor_splitser(segmentation)\n",
    "            gt = tumor_splitser(gt)\n",
    "\n",
    "            # loop over all components in segmentation\n",
    "            for j in range(1,segmentation.shape[3]):    \n",
    "                for k in range(0,gt.shape[3]):\n",
    "                    \n",
    "                    dice_score = metrics.f1_score(segmentation[:,:,:,j].flatten(), gt[:,:,:,k].flatten())\n",
    "                \n",
    "                    if dice_score != 0:\n",
    "                        dice_scores.append(dice_score)\n",
    "                              \n",
    "    return dice_scores"
   ]
  },
  {
   "cell_type": "code",
   "execution_count": 34,
   "metadata": {},
   "outputs": [
    {
     "name": "stdout",
     "output_type": "stream",
     "text": [
      " Volume in drive C is OSDisk\n",
      " Volume Serial Number is 5C34-AC20\n",
      "\n",
      " Directory of C:\\Users\\092335\\PycharmProjects\\MEP2\\segmentation\\nnUNet\n",
      "\n",
      "14-12-2022  07:41 PM    <DIR>          .\n",
      "14-12-2022  07:41 PM    <DIR>          ..\n",
      "14-12-2022  04:42 PM    <DIR>          .ipynb_checkpoints\n",
      "14-12-2022  07:41 PM             6,640 eval.ipynb\n",
      "14-12-2022  04:20 PM            11,785 nnUnet_dataformat_converter.ipynb\n",
      "14-12-2022  04:32 PM         1,355,798 segment_eval.ipynb\n",
      "               3 File(s)      1,374,223 bytes\n",
      "               3 Dir(s)  92,326,240,256 bytes free\n"
     ]
    }
   ],
   "source": [
    "ls\n"
   ]
  },
  {
   "cell_type": "code",
   "execution_count": 2,
   "metadata": {},
   "outputs": [],
   "source": [
    "data_root = '//storage.erasmusmc.nl/m/MyDocs/092335/My Documents/Desktop/Data' \n",
    "gt_root = data_root + '/nnUnet/pure_CRLM/task502_CRLM/'\n",
    "\n",
    "segmentation_folder = '//storage.erasmusmc.nl/m/MyDocs/092335/My Documents/Desktop/Data/WORC_CRLM/Pure_CRLM_data/predictions' \n",
    "\n",
    "gt_RAD  = data_root + '/nnUnet/pure_CRLM/task502_CRLM/labelsTr/' #(RAD)\n",
    "gt_STUD1 = gt_root + 'labelsTr_STUD1/'\n",
    "gt_STUD2 = gt_root + 'labelsTr_STUD2/'\n",
    "gt_CNN  = gt_root + 'labelsTr_CNN/'\n",
    "gt_PhD  = gt_root + 'labelsTr_PhD/'\n",
    "\n",
    "# gt_RAD_dice   = run_dice(segmentation_folder, gt_RAD)\n",
    "# gt_STUD1_dice = run_dice(segmentation_folder, gt_STUD1)\n",
    "# gt_STUD2_dice = run_dice(segmentation_folder, gt_STUD2)\n",
    "# gt_CNN_dice = run_dice(segmentation_folder,   gt_CNN)\n",
    "# gt_PhD_dice = run_dice(segmentation_folder,   gt_PhD)"
   ]
  },
  {
   "cell_type": "code",
   "execution_count": null,
   "metadata": {},
   "outputs": [],
   "source": []
  },
  {
   "cell_type": "code",
   "execution_count": 39,
   "metadata": {},
   "outputs": [],
   "source": [
    "# root = data_root + '/WORC_CRLM/Pure_CRLM_data/nnUNet_dice_reults/'\n",
    "\n",
    "# np.save(root + 'dice_scores.npy', gt_RAD_dice)\n",
    "# np.save(root + 'gt_STUD1_dice.npy', gt_STUD1_dice)\n",
    "# np.save(root + 'gt_STUD2_dice.npy', gt_STUD2_dice)\n",
    "# np.save(root + 'gt_CNN_dice.npy', gt_CNN_dice)\n",
    "# np.save(root + 'gt_PhD_dice.npy', gt_PhD_dice)"
   ]
  },
  {
   "cell_type": "code",
   "execution_count": 36,
   "metadata": {},
   "outputs": [],
   "source": [
    "root = data_root + '/WORC_CRLM/Pure_CRLM_data/nnUNet_dice_reults/'\n",
    "\n",
    "gt_RAD_dice = np.load(root + 'dice_scores.npy')\n",
    "gt_STUD1_dice = np.load(root + 'gt_STUD1_dice.npy')\n",
    "gt_STUD2_dice = np.load(root + 'gt_STUD2_dice.npy')\n",
    "gt_CNN_dice = np.load(root + 'gt_CNN_dice.npy')\n",
    "gt_PhD_dice = np.load(root + 'gt_PhD_dice.npy')\n"
   ]
  },
  {
   "cell_type": "code",
   "execution_count": 39,
   "metadata": {},
   "outputs": [
    {
     "name": "stdout",
     "output_type": "stream",
     "text": [
      "54\n",
      "39\n",
      "39\n",
      "38\n",
      "43\n"
     ]
    },
    {
     "data": {
      "text/plain": [
       "Text(0, 0.5, 'Dice similarity score')"
      ]
     },
     "execution_count": 39,
     "metadata": {},
     "output_type": "execute_result"
    },
    {
     "data": {
      "image/png": "[encoded data removed]",
      "text/plain": [
       "<Figure size 1000x700 with 1 Axes>"
      ]
     },
     "metadata": {},
     "output_type": "display_data"
    }
   ],
   "source": [
    "data = [gt_RAD_dice, gt_STUD1_dice, gt_STUD2_dice, gt_CNN_dice, gt_PhD_dice]\n",
    "\n",
    "for i , name in enumerate(data):\n",
    "    print(len(name))\n",
    "    new  = np.delete(name, np.where(name<0.01))\n",
    "    data[i] = new\n",
    "\n",
    "\n",
    "fig = plt.figure(figsize =(10, 7))\n",
    " \n",
    "# Creating axes instance\n",
    "ax = fig.add_axes([0, 0, 1, 1])\n",
    " \n",
    "# Creating plot\n",
    "bp = ax.boxplot(data)\n",
    "ax.set_xticklabels(['RAD', 'STUD1', 'STUD2', 'CNN', 'PhD'])\n",
    "ax.set_ylim(0,1)\n",
    "ax.set_ylabel('Dice similarity score')"
   ]
  },
  {
   "cell_type": "code",
   "execution_count": null,
   "metadata": {},
   "outputs": [],
   "source": []
  }
 ],
 "metadata": {
  "kernelspec": {
   "display_name": "base",
   "language": "python",
   "name": "python3"
  },
  "language_info": {
   "codemirror_mode": {
    "name": "ipython",
    "version": 3
   },
   "file_extension": ".py",
   "mimetype": "text/x-python",
   "name": "python",
   "nbconvert_exporter": "python",
   "pygments_lexer": "ipython3",
   "version": "3.9.13"
  },
  "vscode": {
   "interpreter": {
    "hash": "818188bdc1b0787c561077d12385c8435d35ebe43513274cde23fc669b5bd85e"
   }
  }
 },
 "nbformat": 4,
 "nbformat_minor": 2
}
