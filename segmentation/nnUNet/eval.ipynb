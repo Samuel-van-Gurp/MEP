{
 "cells": [
  {
   "cell_type": "code",
   "execution_count": 5,
   "metadata": {
    "pycharm": {
     "is_executing": true
    }
   },
   "outputs": [],
   "source": [
    "import numpy as np\n",
    "import os\n",
    "import matplotlib.pyplot as plt\n",
    "import pandas as pd\n",
    "from matplotlib.ticker import NullLocator\n",
    "import matplotlib.colors as colors\n",
    "from scipy import spatial\n",
    "import SimpleITK as sitk\n",
    "from sklearn import metrics \n",
    "from skimage import morphology, measure\n",
    "from tqdm import tqdm"
   ]
  },
  {
   "cell_type": "code",
   "execution_count": 33,
   "metadata": {},
   "outputs": [],
   "source": [
    "def tumor_splitser(segmentation, remove_fist_component = True):\n",
    "    '''\n",
    "    takes in segmentation of multiple conected components and splits them over images with only one component \n",
    "    takes np.array as input\n",
    "    returns np.array dims=(z,y,x,components)\n",
    "    '''\n",
    "    if isinstance(segmentation, sitk.Image):\n",
    "        segmentation = sitk.GetArrayFromImage(segmentation)\n",
    "    \n",
    "    segmentation = measure.label(segmentation)\n",
    "    # print('max',np.max(segmentation))\n",
    "    out = np.empty((segmentation.shape[0], segmentation.shape[1], segmentation.shape[2], np.max(segmentation)))\n",
    "\n",
    "    \n",
    "    for i in range(1, np.max(segmentation)+1):\n",
    "        # print('i',i)\n",
    "        split = np.zeros_like(segmentation, dtype = np.bool_)\n",
    "        split[np.where(segmentation == i)] = True\n",
    "        out[:,:,:,i-1] = split\n",
    "        \n",
    "    return out\n",
    "\n",
    "def run_dice(segmentation_folder, gt_folder):\n",
    "    '''\n",
    "    Runs dice score over all components in segmentation and gt\n",
    "    returns list of non-zero dice scores\n",
    "    '''\n",
    "    teller = 0\n",
    "    dice_scores = []\n",
    "    # loop over all files in segmentation folder\n",
    "    for i in tqdm(os.listdir(segmentation_folder)):\n",
    "        \n",
    "        if i.endswith('.nii'):\n",
    "            # load images\n",
    "            segmentation = sitk.ReadImage(os.path.join(segmentation_folder, i))\n",
    "            gt = sitk.ReadImage(gt_folder+i[0:8]+'_0000.nii.gz')\n",
    "            \n",
    "            # split connected components\n",
    "            segmentation = tumor_splitser(segmentation)\n",
    "            gt = tumor_splitser(gt)\n",
    "\n",
    "            # loop over all components in segmentation\n",
    "            for j in range(1,segmentation.shape[3]):    \n",
    "                for k in range(0,gt.shape[3]):\n",
    "                    \n",
    "                    dice_score = metrics.f1_score(segmentation[:,:,:,j].flatten(), gt[:,:,:,k].flatten())\n",
    "                \n",
    "                    if dice_score != 0:\n",
    "                        dice_scores.append(dice_score)\n",
    "                              \n",
    "    return dice_scores"
   ]
  },
  {
   "cell_type": "code",
   "execution_count": 34,
   "metadata": {},
   "outputs": [
    {
     "name": "stdout",
     "output_type": "stream",
     "text": [
      " Volume in drive C is OSDisk\n",
      " Volume Serial Number is 5C34-AC20\n",
      "\n",
      " Directory of C:\\Users\\092335\\PycharmProjects\\MEP2\\segmentation\\nnUNet\n",
      "\n",
      "14-12-2022  07:41 PM    <DIR>          .\n",
      "14-12-2022  07:41 PM    <DIR>          ..\n",
      "14-12-2022  04:42 PM    <DIR>          .ipynb_checkpoints\n",
      "14-12-2022  07:41 PM             6,640 eval.ipynb\n",
      "14-12-2022  04:20 PM            11,785 nnUnet_dataformat_converter.ipynb\n",
      "14-12-2022  04:32 PM         1,355,798 segment_eval.ipynb\n",
      "               3 File(s)      1,374,223 bytes\n",
      "               3 Dir(s)  92,326,240,256 bytes free\n"
     ]
    }
   ],
   "source": [
    "ls\n"
   ]
  },
  {
   "cell_type": "code",
   "execution_count": 37,
   "metadata": {},
   "outputs": [
    {
     "name": "stdout",
     "output_type": "stream",
     "text": [
      "['CRLM_001_0000.nii.gz', 'CRLM_002_0000.nii.gz', 'CRLM_003_0000.nii.gz', 'CRLM_004_0000.nii.gz', 'CRLM_005_0000.nii.gz', 'CRLM_006_0000.nii.gz', 'CRLM_007_0000.nii.gz', 'CRLM_008_0000.nii.gz', 'CRLM_009_0000.nii.gz', 'CRLM_010_0000.nii.gz', 'CRLM_011_0000.nii.gz', 'CRLM_012_0000.nii.gz', 'CRLM_013_0000.nii.gz', 'CRLM_014_0000.nii.gz', 'CRLM_015_0000.nii.gz', 'CRLM_016_0000.nii.gz', 'CRLM_017_0000.nii.gz', 'CRLM_018_0000.nii.gz', 'CRLM_019_0000.nii.gz', 'CRLM_020_0000.nii.gz', 'CRLM_021_0000.nii.gz', 'CRLM_022_0000.nii.gz', 'CRLM_023_0000.nii.gz', 'CRLM_024_0000.nii.gz', 'CRLM_025_0000.nii.gz', 'CRLM_026_0000.nii.gz', 'CRLM_027_0000.nii.gz', 'CRLM_028_0000.nii.gz', 'CRLM_029_0000.nii.gz', 'CRLM_030_0000.nii.gz', 'CRLM_031_0000.nii.gz', 'CRLM_032_0000.nii.gz', 'CRLM_033_0000.nii.gz', 'CRLM_034_0000.nii.gz', 'CRLM_035_0000.nii.gz', 'CRLM_036_0000.nii.gz', 'CRLM_037_0000.nii.gz', 'CRLM_038_0000.nii.gz', 'CRLM_039_0000.nii.gz', 'CRLM_040_0000.nii.gz', 'CRLM_041_0000.nii.gz', 'CRLM_042_0000.nii.gz', 'CRLM_043_0000.nii.gz', 'CRLM_044_0000.nii.gz', 'CRLM_045_0000.nii.gz', 'CRLM_046_0000.nii.gz', 'CRLM_047_0000.nii.gz', 'CRLM_048_0000.nii.gz', 'CRLM_049_0000.nii.gz', 'CRLM_050_0000.nii.gz', 'CRLM_051_0000.nii.gz', 'CRLM_052_0000.nii.gz', 'CRLM_053_0000.nii.gz', 'CRLM_054_0000.nii.gz', 'CRLM_055_0000.nii.gz', 'CRLM_056_0000.nii.gz', 'CRLM_057_0000.nii.gz', 'CRLM_058_0000.nii.gz', 'CRLM_059_0000.nii.gz', 'CRLM_060_0000.nii.gz', 'CRLM_061_0000.nii.gz', 'CRLM_062_0000.nii.gz', 'CRLM_063_0000.nii.gz', 'CRLM_064_0000.nii.gz', 'CRLM_065_0000.nii.gz', 'CRLM_066_0000.nii.gz', 'CRLM_067_0000.nii.gz', 'CRLM_068_0000.nii.gz', 'CRLM_069_0000.nii.gz', 'CRLM_070_0000.nii.gz', 'CRLM_071_0000.nii.gz', 'CRLM_072_0000.nii.gz', 'CRLM_073_0000.nii.gz', 'CRLM_074_0000.nii.gz', 'CRLM_075_0000.nii.gz', 'CRLM_076_0000.nii.gz', 'CRLM_077_0000.nii.gz']\n"
     ]
    },
    {
     "name": "stderr",
     "output_type": "stream",
     "text": [
      "100%|██████████| 34/34 [40:09<00:00, 70.86s/it]  \n",
      "100%|██████████| 34/34 [39:41<00:00, 70.05s/it]  \n",
      "100%|██████████| 34/34 [38:55<00:00, 68.70s/it]  \n",
      "100%|██████████| 34/34 [38:42<00:00, 68.30s/it]  \n",
      "100%|██████████| 34/34 [42:46<00:00, 75.49s/it]  \n"
     ]
    }
   ],
   "source": [
    "data_root = '//storage.erasmusmc.nl/m/MyDocs/092335/My Documents/Desktop/Data' \n",
    "gt_root = data_root + '/nnUnet/pure_CRLM/task502_CRLM/'\n",
    "\n",
    "segmentation_folder = '//storage.erasmusmc.nl/m/MyDocs/092335/My Documents/Desktop/Data/WORC_CRLM/Pure_CRLM_data/predictions' \n",
    "\n",
    "gt_RAD  = data_root + '/nnUnet/pure_CRLM/task502_CRLM/labelsTr/' #(RAD)\n",
    "gt_STUD1 = gt_root + 'labelsTr_STUD1/'\n",
    "gt_STUD2 = gt_root + 'labelsTr_STUD2/'\n",
    "gt_CNN  = gt_root + 'labelsTr_CNN/'\n",
    "gt_PhD  = gt_root + 'labelsTr_PhD/'\n",
    "\n",
    "gt_RAD_dice   = run_dice(segmentation_folder, gt_RAD)\n",
    "gt_STUD1_dice = run_dice(segmentation_folder, gt_STUD1)\n",
    "gt_STUD2_dice = run_dice(segmentation_folder, gt_STUD2)\n",
    "gt_CNN_dice = run_dice(segmentation_folder,   gt_CNN)\n",
    "gt_PhD_dice = run_dice(segmentation_folder,   gt_PhD)"
   ]
  },
  {
   "cell_type": "code",
   "execution_count": null,
   "metadata": {},
   "outputs": [],
   "source": []
  },
  {
   "cell_type": "code",
   "execution_count": 39,
   "metadata": {},
   "outputs": [],
   "source": [
    "root = data_root + '/WORC_CRLM/Pure_CRLM_data/nnUNet_dice_reults/'\n",
    "\n",
    "np.save(root + 'dice_scores.npy', gt_RAD_dice)\n",
    "np.save(root + 'gt_STUD1_dice.npy', gt_STUD1_dice)\n",
    "np.save(root + 'gt_STUD2_dice.npy', gt_STUD2_dice)\n",
    "np.save(root + 'gt_CNN_dice.npy', gt_CNN_dice)\n",
    "np.save(root + 'gt_PhD_dice.npy', gt_PhD_dice)"
   ]
  },
  {
   "cell_type": "code",
   "execution_count": null,
   "metadata": {},
   "outputs": [],
   "source": []
  },
  {
   "cell_type": "code",
   "execution_count": 44,
   "metadata": {},
   "outputs": [
    {
     "data": {
      "image/png": "[encoded data removed]",
      "text/plain": [
       "<Figure size 1000x700 with 1 Axes>"
      ]
     },
     "metadata": {},
     "output_type": "display_data"
    },
    {
     "data": {
      "image/png": "[encoded data removed]",
      "text/plain": [
       "<Figure size 640x480 with 1 Axes>"
      ]
     },
     "metadata": {},
     "output_type": "display_data"
    }
   ],
   "source": [
    "data = [gt_RAD_dice, gt_STUD1_dice, gt_STUD2_dice, gt_CNN_dice, gt_PhD_dice]\n",
    " \n",
    "fig = plt.figure(figsize =(10, 7))\n",
    " \n",
    "# Creating axes instance\n",
    "ax = fig.add_axes([0, 0, 1, 1])\n",
    " \n",
    "# Creating plot\n",
    "bp = ax.boxplot(data)\n",
    " \n"
   ]
  },
  {
   "cell_type": "code",
   "execution_count": null,
   "metadata": {},
   "outputs": [],
   "source": []
  }
 ],
 "metadata": {
  "kernelspec": {
   "display_name": "Python 3 (ipykernel)",
   "language": "python",
   "name": "python3"
  },
  "language_info": {
   "codemirror_mode": {
    "name": "ipython",
    "version": 3
   },
   "file_extension": ".py",
   "mimetype": "text/x-python",
   "name": "python",
   "nbconvert_exporter": "python",
   "pygments_lexer": "ipython3",
   "version": "3.9.13"
  },
  "vscode": {
   "interpreter": {
    "hash": "7432466e805b9561eb33ab421f71c5fc5b7fe03de332dde5452a181beacb9a57"
   }
  }
 },
 "nbformat": 4,
 "nbformat_minor": 2
}
